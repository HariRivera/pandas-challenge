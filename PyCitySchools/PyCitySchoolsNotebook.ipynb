{
 "cells": [
  {
   "cell_type": "code",
   "execution_count": null,
   "id": "c81706c2-03b3-44c1-9b3b-93800f8e896d",
   "metadata": {},
   "outputs": [],
   "source": [
    "\n",
    "# Dependencies and Setup\n",
    "import pandas as pd\n",
    "from pathlib import Path\n",
    "\n",
    "# File to Load (Remember to Change These)\n",
    "school_data_to_load = Path(\"Resources/schools_complete.csv\")\n",
    "student_data_to_load = Path(\"Resources/students_complete.csv\")\n",
    "\n",
    "# Read School and Student Data File and store into Pandas DataFrames\n",
    "school_data = pd.read_csv(school_data_to_load)\n",
    "student_data = pd.read_csv(student_data_to_load)\n",
    "\n",
    "# Combine the data into a single dataset.\n",
    "school_data_complete = pd.merge(student_data, school_data, how=\"left\", on=\"school_name\")\n",
    "school_data_complete.head()"
   ]
  },
  {
   "cell_type": "code",
   "execution_count": null,
   "id": "847b6715",
   "metadata": {},
   "outputs": [],
   "source": [
    "# Número total de escuelas únicas\n",
    "total_schools = school_data['school_name'].nunique()\n",
    "print(f\"Total Schools: {total_schools}\")\n",
    "\n",
    "# Número total de estudiantes\n",
    "total_students = student_data['Student ID'].count()\n",
    "print(f\"Total Students: {total_students}\")\n",
    "\n",
    "# Presupuesto total\n",
    "total_budget = school_data['budget'].sum()\n",
    "print(f\"Total Budget: ${total_budget}\")\n"
   ]
  },
  {
   "cell_type": "code",
   "execution_count": null,
   "id": "8f4e0085",
   "metadata": {},
   "outputs": [],
   "source": [
    "# Promedio de los puntajes de matemáticas y lectura\n",
    "average_math_score = school_data_complete['math_score'].mean()\n",
    "average_reading_score = school_data_complete['reading_score'].mean()\n",
    "print(f\"Average Math Score: {average_math_score}\")\n",
    "print(f\"Average Reading Score: {average_reading_score}\")\n",
    "\n",
    "# Porcentaje de estudiantes que pasaron matemáticas\n",
    "passing_math_count = school_data_complete[school_data_complete['math_score'] >= 70].count()['student_name']\n",
    "percent_passing_math = (passing_math_count / total_students) * 100\n",
    "print(f\"% Passing Math: {percent_passing_math}%\")\n",
    "\n",
    "# Porcentaje de estudiantes que pasaron lectura\n",
    "passing_reading_count = school_data_complete[school_data_complete['reading_score'] >= 70].count()['student_name']\n",
    "percent_passing_reading = (passing_reading_count / total_students) * 100\n",
    "print(f\"% Passing Reading: {percent_passing_reading}%\")"
   ]
  },
  {
   "cell_type": "code",
   "execution_count": null,
   "id": "2bd59b64",
   "metadata": {},
   "outputs": [],
   "source": [
    "# Porcentaje de estudiantes que pasaron matemáticas y lectura\n",
    "passing_both_count = school_data_complete[(school_data_complete['math_score'] >= 70) & (school_data_complete['reading_score'] >= 70)].count()['student_name']\n",
    "percent_passing_both = (passing_both_count / total_students) * 100\n",
    "print(f\"% Overall Passing: {percent_passing_both}%\")"
   ]
  },
  {
   "cell_type": "code",
   "execution_count": null,
   "id": "700423cf",
   "metadata": {},
   "outputs": [],
   "source": [
    "# Crear un DataFrame con las métricas clave del distrito\n",
    "district_summary = pd.DataFrame({\n",
    "    \"Total Schools\": [total_schools],\n",
    "    \"Total Students\": [total_students],\n",
    "    \"Total Budget\": [total_budget],\n",
    "    \"Average Math Score\": [average_math_score],\n",
    "    \"Average Reading Score\": [average_reading_score],\n",
    "    \"% Passing Math\": [percent_passing_math],\n",
    "    \"% Passing Reading\": [percent_passing_reading],\n",
    "    \"% Overall Passing\": [percent_passing_both]\n",
    "})\n",
    "\n",
    "# Formateo de las columnas \"Total Students\" y \"Total Budget\"\n",
    "district_summary[\"Total Students\"] = district_summary[\"Total Students\"].map(\"{:,}\".format)\n",
    "district_summary[\"Total Budget\"] = district_summary[\"Total Budget\"].map(\"${:,.2f}\".format)\n",
    "\n",
    "# Mostrar el DataFrame\n",
    "display(district_summary)\n"
   ]
  },
  {
   "cell_type": "markdown",
   "id": "a8ef81a2",
   "metadata": {},
   "source": [
    "School Summary"
   ]
  },
  {
   "cell_type": "code",
   "execution_count": null,
   "id": "8df05b9f",
   "metadata": {},
   "outputs": [],
   "source": [
    "# Selecciona el tipo por escuela de school_data\n",
    "school_types = school_data.set_index([\"school_name\"])[\"type\"]"
   ]
  },
  {
   "cell_type": "code",
   "execution_count": null,
   "id": "b217fa97",
   "metadata": {},
   "outputs": [],
   "source": [
    "# Calcula el total de estudiantes por escuela de school_data\n",
    "per_school_counts = school_data_complete['school_name'].value_counts()"
   ]
  },
  {
   "cell_type": "code",
   "execution_count": null,
   "id": "96684f65",
   "metadata": {},
   "outputs": [],
   "source": [
    "# Calcula el presupuesto total de la escuela y el gasto per cápita por escuela de school_data\n",
    "per_school_budget = school_data.set_index([\"school_name\"])[\"budget\"]\n",
    "per_school_capita = per_school_budget / per_school_counts"
   ]
  },
  {
   "cell_type": "code",
   "execution_count": null,
   "metadata": {},
   "outputs": [],
   "source": [
    "# Calcula los puntajes promedio de matemáticas y lectura por escuela\n",
    "per_school_math = school_data_complete.groupby([\"school_name\"]).mean()[\"math_score\"]\n",
    "per_school_reading = school_data_complete.groupby([\"school_name\"]).mean()[\"reading_score\"]\n",
    "\n",
    "\n",
    "\n",
    "\n"
   ]
  },
  {
   "cell_type": "code",
   "execution_count": null,
   "id": "4aa9ae61",
   "metadata": {},
   "outputs": [],
   "source": [
    "# Número de estudiantes pasando matemáticas por escuela\n",
    "students_passing_math = school_data_complete[school_data_complete[\"math_score\"] >= 70]\n",
    "school_students_passing_math = students_passing_math.groupby([\"school_name\"]).count()[\"student_name\"]\n"
   ]
  },
  {
   "cell_type": "code",
   "execution_count": null,
   "id": "153a508e",
   "metadata": {},
   "outputs": [],
   "source": [
    "# Número de estudiantes pasando lectura por escuela\n",
    "students_passing_reading = school_data_complete[school_data_complete[\"reading_score\"] >= 70]\n",
    "school_students_passing_reading = students_passing_reading.groupby([\"school_name\"]).count()[\"student_name\"]"
   ]
  },
  {
   "cell_type": "code",
   "execution_count": null,
   "id": "6c235cd6",
   "metadata": {},
   "outputs": [],
   "source": [
    "# Número de estudiantes pasando matemáticas y lectura por escuela\n",
    "students_passing_both = school_data_complete[(school_data_complete[\"math_score\"] >= 70) & (school_data_complete[\"reading_score\"] >= 70)]\n",
    "school_students_passing_both = students_passing_both.groupby([\"school_name\"]).count()[\"student_name\"]"
   ]
  },
  {
   "cell_type": "code",
   "execution_count": null,
   "id": "03d6f6e6",
   "metadata": {},
   "outputs": [],
   "source": [
    "# Tasas de aprobación por escuela\n",
    "per_school_passing_math = (school_students_passing_math / per_school_counts) * 100\n",
    "per_school_passing_reading = (school_students_passing_reading / per_school_counts) * 100\n",
    "overall_passing_rate = (school_students_passing_both / per_school_counts) * 100"
   ]
  },
  {
   "cell_type": "code",
   "execution_count": null,
   "id": "51cc2dc0",
   "metadata": {},
   "outputs": [],
   "source": [
    "# Crear el DataFrame `per_school_summary`\n",
    "per_school_summary = pd.DataFrame({\n",
    "    \"School Type\": school_types,\n",
    "    \"Total Students\": per_school_counts,\n",
    "    \"Total School Budget\": per_school_budget,\n",
    "    \"Per Student Budget\": per_school_capita,\n",
    "    \"Average Math Score\": per_school_math,\n",
    "    \"Average Reading Score\": per_school_reading,\n",
    "    \"% Passing Math\": per_school_passing_math,\n",
    "    \"% Passing Reading\": per_school_passing_reading,\n",
    "    \"% Overall Passing\": per_school_overall_passing\n",
    "})\n",
    "\n",
    "# Formateo\n",
    "per_school_summary[\"Total School Budget\"] = per_school_summary[\"Total School Budget\"].map(\"${:,.2f}\".format)\n",
    "per_school_summary[\"Per Student Budget\"] = per_school_summary[\"Per Student Budget\"].map(\"${:,.2f}\".format)\n",
    "\n",
    "# Mostrar el DataFrame\n",
    "display(per_school_summary)"
   ]
  }
 ],
 "metadata": {
  "kernelspec": {
   "display_name": "dev",
   "language": "python",
   "name": "python3"
  },
  "language_info": {
   "codemirror_mode": {
    "name": "ipython",
    "version": 3
   },
   "file_extension": ".py",
   "mimetype": "text/x-python",
   "name": "python",
   "nbconvert_exporter": "python",
   "pygments_lexer": "ipython3",
   "version": "3.12.2"
  }
 },
 "nbformat": 4,
 "nbformat_minor": 5
}
